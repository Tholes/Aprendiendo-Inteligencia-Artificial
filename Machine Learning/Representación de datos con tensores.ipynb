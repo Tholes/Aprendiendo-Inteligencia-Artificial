{
 "cells": [
  {
   "cell_type": "markdown",
   "metadata": {},
   "source": [
    "# Representación de datos con tensores.\n"
   ]
  },
  {
   "cell_type": "code",
   "execution_count": 2,
   "metadata": {},
   "outputs": [],
   "source": [
    "import torch\n",
    "import numpy as np\n",
    "import pandas as pd"
   ]
  },
  {
   "cell_type": "code",
   "execution_count": 9,
   "metadata": {},
   "outputs": [
    {
     "name": "stdout",
     "output_type": "stream",
     "text": [
      "tensor([[0.1674, 1.4663],\n",
      "        [0.1407, 0.8332]], dtype=torch.float64)\n"
     ]
    }
   ],
   "source": [
    "numpyArray = np.random.randn(2,2)\n",
    "\n",
    "tensor_a = torch.from_numpy(numpyArray)\n",
    "print(tensor_a)"
   ]
  },
  {
   "cell_type": "markdown",
   "metadata": {},
   "source": [
    "### Media de un tensor.\n",
    "Para ver visualmente lo de las dimensiones de los tensores leer [esto](https://towardsdatascience.com/understanding-dimensions-in-pytorch-6edf9972d3be)\n",
    "Para este caso:\n",
    "#### dim = 0 : \n",
    "representa una colisión entre ambos tensores, halla las medias de las posiciones iguales. tensor_a[0][0] y tensor_a[1][0] \n",
    "\n",
    "#### dim = 1:\n",
    "representa una colisión entre las columnas de cada tensor.\n",
    "\n",
    "Nota: El comportamiento puede tomar ligeras variaciones según las dimensiones del tensor."
   ]
  },
  {
   "cell_type": "code",
   "execution_count": 15,
   "metadata": {
    "scrolled": true
   },
   "outputs": [
    {
     "name": "stdout",
     "output_type": "stream",
     "text": [
      "tensor([[0.1674, 1.4663],\n",
      "        [0.1407, 0.8332]], dtype=torch.float64)\n",
      "tensor(0.6519, dtype=torch.float64)\n",
      "tensor([0.1541, 1.1497], dtype=torch.float64)\n",
      "tensor([0.8169, 0.4870], dtype=torch.float64)\n"
     ]
    }
   ],
   "source": [
    "print(tensor_a)\n",
    "print(torch.mean(tensor_a))\n",
    "print(torch.mean(tensor_a, dim=0))\n",
    "print(torch.mean(tensor_a, dim=1))"
   ]
  },
  {
   "cell_type": "markdown",
   "metadata": {},
   "source": [
    "### Desviación estandar."
   ]
  },
  {
   "cell_type": "code",
   "execution_count": 16,
   "metadata": {},
   "outputs": [
    {
     "name": "stdout",
     "output_type": "stream",
     "text": [
      "tensor([0.0189, 0.4476], dtype=torch.float64)\n"
     ]
    }
   ],
   "source": [
    "print(torch.std(tensor_a,dim = 0))"
   ]
  },
  {
   "cell_type": "markdown",
   "metadata": {},
   "source": [
    "### Guardar un tensor."
   ]
  },
  {
   "cell_type": "code",
   "execution_count": 17,
   "metadata": {},
   "outputs": [],
   "source": [
    "torch.save(tensor_a, 'tensor.t')"
   ]
  },
  {
   "cell_type": "markdown",
   "metadata": {},
   "source": [
    "### Cargar un tensor."
   ]
  },
  {
   "cell_type": "code",
   "execution_count": 18,
   "metadata": {},
   "outputs": [
    {
     "name": "stdout",
     "output_type": "stream",
     "text": [
      "tensor([[0.1674, 1.4663],\n",
      "        [0.1407, 0.8332]], dtype=torch.float64)\n"
     ]
    }
   ],
   "source": [
    "load = torch.load('tensor.t')\n",
    "print(load)"
   ]
  },
  {
   "cell_type": "markdown",
   "metadata": {},
   "source": [
    "### Cargar datos con pandas.\n"
   ]
  },
  {
   "cell_type": "code",
   "execution_count": 6,
   "metadata": {},
   "outputs": [
    {
     "name": "stdout",
     "output_type": "stream",
     "text": [
      "       Unnamed: 0      ID                  Name  Age  \\\n",
      "0               0  158023              L. Messi   31   \n",
      "1               1   20801     Cristiano Ronaldo   33   \n",
      "2               2  190871             Neymar Jr   26   \n",
      "3               3  193080                De Gea   27   \n",
      "4               4  192985          K. De Bruyne   27   \n",
      "5               5  183277             E. Hazard   27   \n",
      "6               6  177003             L. Modrić   32   \n",
      "7               7  176580             L. Suárez   31   \n",
      "8               8  155862          Sergio Ramos   32   \n",
      "9               9  200389              J. Oblak   25   \n",
      "10             10  188545        R. Lewandowski   29   \n",
      "11             11  182521              T. Kroos   28   \n",
      "12             12  182493              D. Godín   32   \n",
      "13             13  168542           David Silva   32   \n",
      "14             14  215914              N. Kanté   27   \n",
      "15             15  211110             P. Dybala   24   \n",
      "16             16  202126               H. Kane   24   \n",
      "17             17  194765          A. Griezmann   27   \n",
      "18             18  192448         M. ter Stegen   26   \n",
      "19             19  192119           T. Courtois   26   \n",
      "20             20  189511       Sergio Busquets   29   \n",
      "21             21  179813             E. Cavani   31   \n",
      "22             22  167495              M. Neuer   32   \n",
      "23             23  153079             S. Agüero   30   \n",
      "24             24  138956          G. Chiellini   33   \n",
      "25             25  231747             K. Mbappé   19   \n",
      "26             26  209331              M. Salah   26   \n",
      "27             27  200145              Casemiro   26   \n",
      "28             28  198710          J. Rodríguez   26   \n",
      "29             29  198219            L. Insigne   27   \n",
      "...           ...     ...                   ...  ...   \n",
      "18177       18177  238550             R. Roache   18   \n",
      "18178       18178  243158          L. Wahlstedt   18   \n",
      "18179       18179  246243           J. Williams   17   \n",
      "18180       18180  221669              M. Hurst   22   \n",
      "18181       18181  245734              C. Maher   17   \n",
      "18182       18182  246001               Y. Góez   18   \n",
      "18183       18183   53748         K. Pilkington   44   \n",
      "18184       18184  241657             D. Horton   18   \n",
      "18185       18185  243961              E. Tweed   19   \n",
      "18186       18186  240917          Zhang Yufeng   20   \n",
      "18187       18187  240158             C. Ehlich   19   \n",
      "18188       18188  240927            L. Collins   17   \n",
      "18189       18189  240160            A. Kaltner   18   \n",
      "18190       18190  245569            L. Watkins   18   \n",
      "18191       18191  245570  J. Norville-Williams   18   \n",
      "18192       18192  245571             S. Squire   18   \n",
      "18193       18193  244823            N. Fuentes   18   \n",
      "18194       18194  245862              J. Milli   18   \n",
      "18195       18195  243582            S. Griffin   18   \n",
      "18196       18196  238477           K. Fujikawa   19   \n",
      "18197       18197  246167            D. Holland   18   \n",
      "18198       18198  242844            J. Livesey   18   \n",
      "18199       18199  244677          M. Baldisimo   18   \n",
      "18200       18200  231381              J. Young   18   \n",
      "18201       18201  243413              D. Walsh   18   \n",
      "18202       18202  238813          J. Lundstram   19   \n",
      "18203       18203  243165    N. Christoffersson   19   \n",
      "18204       18204  241638             B. Worman   16   \n",
      "18205       18205  246268        D. Walker-Rice   17   \n",
      "18206       18206  246269             G. Nugent   16   \n",
      "\n",
      "                                                Photo          Nationality  \\\n",
      "0      https://cdn.sofifa.org/players/4/19/158023.png            Argentina   \n",
      "1       https://cdn.sofifa.org/players/4/19/20801.png             Portugal   \n",
      "2      https://cdn.sofifa.org/players/4/19/190871.png               Brazil   \n",
      "3      https://cdn.sofifa.org/players/4/19/193080.png                Spain   \n",
      "4      https://cdn.sofifa.org/players/4/19/192985.png              Belgium   \n",
      "5      https://cdn.sofifa.org/players/4/19/183277.png              Belgium   \n",
      "6      https://cdn.sofifa.org/players/4/19/177003.png              Croatia   \n",
      "7      https://cdn.sofifa.org/players/4/19/176580.png              Uruguay   \n",
      "8      https://cdn.sofifa.org/players/4/19/155862.png                Spain   \n",
      "9      https://cdn.sofifa.org/players/4/19/200389.png             Slovenia   \n",
      "10     https://cdn.sofifa.org/players/4/19/188545.png               Poland   \n",
      "11     https://cdn.sofifa.org/players/4/19/182521.png              Germany   \n",
      "12     https://cdn.sofifa.org/players/4/19/182493.png              Uruguay   \n",
      "13     https://cdn.sofifa.org/players/4/19/168542.png                Spain   \n",
      "14     https://cdn.sofifa.org/players/4/19/215914.png               France   \n",
      "15     https://cdn.sofifa.org/players/4/19/211110.png            Argentina   \n",
      "16     https://cdn.sofifa.org/players/4/19/202126.png              England   \n",
      "17     https://cdn.sofifa.org/players/4/19/194765.png               France   \n",
      "18     https://cdn.sofifa.org/players/4/19/192448.png              Germany   \n",
      "19     https://cdn.sofifa.org/players/4/19/192119.png              Belgium   \n",
      "20     https://cdn.sofifa.org/players/4/19/189511.png                Spain   \n",
      "21     https://cdn.sofifa.org/players/4/19/179813.png              Uruguay   \n",
      "22     https://cdn.sofifa.org/players/4/19/167495.png              Germany   \n",
      "23     https://cdn.sofifa.org/players/4/19/153079.png            Argentina   \n",
      "24     https://cdn.sofifa.org/players/4/19/138956.png                Italy   \n",
      "25     https://cdn.sofifa.org/players/4/19/231747.png               France   \n",
      "26     https://cdn.sofifa.org/players/4/19/209331.png                Egypt   \n",
      "27     https://cdn.sofifa.org/players/4/19/200145.png               Brazil   \n",
      "28     https://cdn.sofifa.org/players/4/19/198710.png             Colombia   \n",
      "29     https://cdn.sofifa.org/players/4/19/198219.png                Italy   \n",
      "...                                               ...                  ...   \n",
      "18177  https://cdn.sofifa.org/players/4/19/238550.png  Republic of Ireland   \n",
      "18178  https://cdn.sofifa.org/players/4/19/243158.png               Sweden   \n",
      "18179  https://cdn.sofifa.org/players/4/19/246243.png              England   \n",
      "18180  https://cdn.sofifa.org/players/4/19/221669.png             Scotland   \n",
      "18181  https://cdn.sofifa.org/players/4/19/245734.png  Republic of Ireland   \n",
      "18182  https://cdn.sofifa.org/players/4/19/246001.png             Colombia   \n",
      "18183   https://cdn.sofifa.org/players/4/19/53748.png              England   \n",
      "18184  https://cdn.sofifa.org/players/4/19/241657.png              England   \n",
      "18185  https://cdn.sofifa.org/players/4/19/243961.png  Republic of Ireland   \n",
      "18186  https://cdn.sofifa.org/players/4/19/240917.png             China PR   \n",
      "18187  https://cdn.sofifa.org/players/4/19/240158.png              Germany   \n",
      "18188  https://cdn.sofifa.org/players/4/19/240927.png                Wales   \n",
      "18189  https://cdn.sofifa.org/players/4/19/240160.png              Germany   \n",
      "18190  https://cdn.sofifa.org/players/4/19/245569.png              England   \n",
      "18191  https://cdn.sofifa.org/players/4/19/245570.png              England   \n",
      "18192  https://cdn.sofifa.org/players/4/19/245571.png              England   \n",
      "18193  https://cdn.sofifa.org/players/4/19/244823.png                Chile   \n",
      "18194  https://cdn.sofifa.org/players/4/19/245862.png                Italy   \n",
      "18195  https://cdn.sofifa.org/players/4/19/243582.png  Republic of Ireland   \n",
      "18196  https://cdn.sofifa.org/players/4/19/238477.png                Japan   \n",
      "18197  https://cdn.sofifa.org/players/4/19/246167.png  Republic of Ireland   \n",
      "18198  https://cdn.sofifa.org/players/4/19/242844.png              England   \n",
      "18199  https://cdn.sofifa.org/players/4/19/244677.png               Canada   \n",
      "18200  https://cdn.sofifa.org/players/4/19/231381.png             Scotland   \n",
      "18201  https://cdn.sofifa.org/players/4/19/243413.png  Republic of Ireland   \n",
      "18202  https://cdn.sofifa.org/players/4/19/238813.png              England   \n",
      "18203  https://cdn.sofifa.org/players/4/19/243165.png               Sweden   \n",
      "18204  https://cdn.sofifa.org/players/4/19/241638.png              England   \n",
      "18205  https://cdn.sofifa.org/players/4/19/246268.png              England   \n",
      "18206  https://cdn.sofifa.org/players/4/19/246269.png              England   \n",
      "\n",
      "                                       Flag  Overall  Potential  \\\n",
      "0       https://cdn.sofifa.org/flags/52.png       94         94   \n",
      "1       https://cdn.sofifa.org/flags/38.png       94         94   \n",
      "2       https://cdn.sofifa.org/flags/54.png       92         93   \n",
      "3       https://cdn.sofifa.org/flags/45.png       91         93   \n",
      "4        https://cdn.sofifa.org/flags/7.png       91         92   \n",
      "5        https://cdn.sofifa.org/flags/7.png       91         91   \n",
      "6       https://cdn.sofifa.org/flags/10.png       91         91   \n",
      "7       https://cdn.sofifa.org/flags/60.png       91         91   \n",
      "8       https://cdn.sofifa.org/flags/45.png       91         91   \n",
      "9       https://cdn.sofifa.org/flags/44.png       90         93   \n",
      "10      https://cdn.sofifa.org/flags/37.png       90         90   \n",
      "11      https://cdn.sofifa.org/flags/21.png       90         90   \n",
      "12      https://cdn.sofifa.org/flags/60.png       90         90   \n",
      "13      https://cdn.sofifa.org/flags/45.png       90         90   \n",
      "14      https://cdn.sofifa.org/flags/18.png       89         90   \n",
      "15      https://cdn.sofifa.org/flags/52.png       89         94   \n",
      "16      https://cdn.sofifa.org/flags/14.png       89         91   \n",
      "17      https://cdn.sofifa.org/flags/18.png       89         90   \n",
      "18      https://cdn.sofifa.org/flags/21.png       89         92   \n",
      "19       https://cdn.sofifa.org/flags/7.png       89         90   \n",
      "20      https://cdn.sofifa.org/flags/45.png       89         89   \n",
      "21      https://cdn.sofifa.org/flags/60.png       89         89   \n",
      "22      https://cdn.sofifa.org/flags/21.png       89         89   \n",
      "23      https://cdn.sofifa.org/flags/52.png       89         89   \n",
      "24      https://cdn.sofifa.org/flags/27.png       89         89   \n",
      "25      https://cdn.sofifa.org/flags/18.png       88         95   \n",
      "26     https://cdn.sofifa.org/flags/111.png       88         89   \n",
      "27      https://cdn.sofifa.org/flags/54.png       88         90   \n",
      "28      https://cdn.sofifa.org/flags/56.png       88         89   \n",
      "29      https://cdn.sofifa.org/flags/27.png       88         88   \n",
      "...                                     ...      ...        ...   \n",
      "18177   https://cdn.sofifa.org/flags/25.png       48         69   \n",
      "18178   https://cdn.sofifa.org/flags/46.png       48         65   \n",
      "18179   https://cdn.sofifa.org/flags/14.png       48         64   \n",
      "18180   https://cdn.sofifa.org/flags/42.png       48         58   \n",
      "18181   https://cdn.sofifa.org/flags/25.png       48         66   \n",
      "18182   https://cdn.sofifa.org/flags/56.png       48         65   \n",
      "18183   https://cdn.sofifa.org/flags/14.png       48         48   \n",
      "18184   https://cdn.sofifa.org/flags/14.png       48         55   \n",
      "18185   https://cdn.sofifa.org/flags/25.png       48         59   \n",
      "18186  https://cdn.sofifa.org/flags/155.png       47         64   \n",
      "18187   https://cdn.sofifa.org/flags/21.png       47         59   \n",
      "18188   https://cdn.sofifa.org/flags/50.png       47         62   \n",
      "18189   https://cdn.sofifa.org/flags/21.png       47         61   \n",
      "18190   https://cdn.sofifa.org/flags/14.png       47         67   \n",
      "18191   https://cdn.sofifa.org/flags/14.png       47         65   \n",
      "18192   https://cdn.sofifa.org/flags/14.png       47         64   \n",
      "18193   https://cdn.sofifa.org/flags/55.png       47         64   \n",
      "18194   https://cdn.sofifa.org/flags/27.png       47         65   \n",
      "18195   https://cdn.sofifa.org/flags/25.png       47         67   \n",
      "18196  https://cdn.sofifa.org/flags/163.png       47         61   \n",
      "18197   https://cdn.sofifa.org/flags/25.png       47         61   \n",
      "18198   https://cdn.sofifa.org/flags/14.png       47         70   \n",
      "18199   https://cdn.sofifa.org/flags/70.png       47         69   \n",
      "18200   https://cdn.sofifa.org/flags/42.png       47         62   \n",
      "18201   https://cdn.sofifa.org/flags/25.png       47         68   \n",
      "18202   https://cdn.sofifa.org/flags/14.png       47         65   \n",
      "18203   https://cdn.sofifa.org/flags/46.png       47         63   \n",
      "18204   https://cdn.sofifa.org/flags/14.png       47         67   \n",
      "18205   https://cdn.sofifa.org/flags/14.png       47         66   \n",
      "18206   https://cdn.sofifa.org/flags/14.png       46         66   \n",
      "\n",
      "                         Club  ... Composure Marking StandingTackle  \\\n",
      "0                FC Barcelona  ...      96.0    33.0           28.0   \n",
      "1                    Juventus  ...      95.0    28.0           31.0   \n",
      "2         Paris Saint-Germain  ...      94.0    27.0           24.0   \n",
      "3           Manchester United  ...      68.0    15.0           21.0   \n",
      "4             Manchester City  ...      88.0    68.0           58.0   \n",
      "5                     Chelsea  ...      91.0    34.0           27.0   \n",
      "6                 Real Madrid  ...      84.0    60.0           76.0   \n",
      "7                FC Barcelona  ...      85.0    62.0           45.0   \n",
      "8                 Real Madrid  ...      82.0    87.0           92.0   \n",
      "9             Atlético Madrid  ...      70.0    27.0           12.0   \n",
      "10          FC Bayern München  ...      86.0    34.0           42.0   \n",
      "11                Real Madrid  ...      85.0    72.0           79.0   \n",
      "12            Atlético Madrid  ...      82.0    90.0           89.0   \n",
      "13            Manchester City  ...      93.0    59.0           53.0   \n",
      "14                    Chelsea  ...      85.0    90.0           91.0   \n",
      "15                   Juventus  ...      84.0    23.0           20.0   \n",
      "16          Tottenham Hotspur  ...      89.0    56.0           36.0   \n",
      "17            Atlético Madrid  ...      87.0    59.0           47.0   \n",
      "18               FC Barcelona  ...      69.0    25.0           13.0   \n",
      "19                Real Madrid  ...      66.0    20.0           18.0   \n",
      "20               FC Barcelona  ...      90.0    90.0           86.0   \n",
      "21        Paris Saint-Germain  ...      82.0    52.0           45.0   \n",
      "22          FC Bayern München  ...      70.0    17.0           10.0   \n",
      "23            Manchester City  ...      90.0    30.0           20.0   \n",
      "24                   Juventus  ...      84.0    93.0           93.0   \n",
      "25        Paris Saint-Germain  ...      86.0    34.0           34.0   \n",
      "26                  Liverpool  ...      91.0    38.0           43.0   \n",
      "27                Real Madrid  ...      84.0    88.0           90.0   \n",
      "28          FC Bayern München  ...      87.0    52.0           41.0   \n",
      "29                     Napoli  ...      83.0    51.0           24.0   \n",
      "...                       ...  ...       ...     ...            ...   \n",
      "18177               Blackpool  ...      49.0    18.0           16.0   \n",
      "18178              Dalkurd FF  ...      28.0    16.0           11.0   \n",
      "18179        Northampton Town  ...      37.0    42.0           51.0   \n",
      "18180        St. Johnstone FC  ...      28.0    12.0           15.0   \n",
      "18181          Bray Wanderers  ...      38.0    43.0           49.0   \n",
      "18182       Atlético Nacional  ...      38.0    44.0           42.0   \n",
      "18183        Cambridge United  ...      56.0    15.0           15.0   \n",
      "18184            Lincoln City  ...      42.0    47.0           49.0   \n",
      "18185              Derry City  ...      43.0    39.0           39.0   \n",
      "18186        Beijing Renhe FC  ...      39.0    53.0           41.0   \n",
      "18187      SpVgg Unterhaching  ...      47.0    40.0           42.0   \n",
      "18188          Newport County  ...      46.0    33.0           38.0   \n",
      "18189      SpVgg Unterhaching  ...      37.0    28.0           15.0   \n",
      "18190        Cambridge United  ...      46.0    35.0           44.0   \n",
      "18191        Cambridge United  ...      36.0    45.0           42.0   \n",
      "18192        Cambridge United  ...      38.0    41.0           41.0   \n",
      "18193          Unión Española  ...      32.0    41.0           48.0   \n",
      "18194                   Lecce  ...      23.0     6.0           10.0   \n",
      "18195            Waterford FC  ...      41.0    44.0           37.0   \n",
      "18196            Júbilo Iwata  ...      35.0    41.0           44.0   \n",
      "18197               Cork City  ...      52.0    41.0           47.0   \n",
      "18198           Burton Albion  ...      34.0    15.0           11.0   \n",
      "18199  Vancouver Whitecaps FC  ...      40.0    48.0           49.0   \n",
      "18200            Swindon Town  ...      50.0    15.0           17.0   \n",
      "18201            Waterford FC  ...      43.0    44.0           47.0   \n",
      "18202         Crewe Alexandra  ...      45.0    40.0           48.0   \n",
      "18203          Trelleborgs FF  ...      42.0    22.0           15.0   \n",
      "18204        Cambridge United  ...      41.0    32.0           13.0   \n",
      "18205         Tranmere Rovers  ...      46.0    20.0           25.0   \n",
      "18206         Tranmere Rovers  ...      43.0    40.0           43.0   \n",
      "\n",
      "       SlidingTackle GKDiving  GKHandling  GKKicking  GKPositioning  \\\n",
      "0               26.0      6.0        11.0       15.0           14.0   \n",
      "1               23.0      7.0        11.0       15.0           14.0   \n",
      "2               33.0      9.0         9.0       15.0           15.0   \n",
      "3               13.0     90.0        85.0       87.0           88.0   \n",
      "4               51.0     15.0        13.0        5.0           10.0   \n",
      "5               22.0     11.0        12.0        6.0            8.0   \n",
      "6               73.0     13.0         9.0        7.0           14.0   \n",
      "7               38.0     27.0        25.0       31.0           33.0   \n",
      "8               91.0     11.0         8.0        9.0            7.0   \n",
      "9               18.0     86.0        92.0       78.0           88.0   \n",
      "10              19.0     15.0         6.0       12.0            8.0   \n",
      "11              69.0     10.0        11.0       13.0            7.0   \n",
      "12              89.0      6.0         8.0       15.0            5.0   \n",
      "13              29.0      6.0        15.0        7.0            6.0   \n",
      "14              85.0     15.0        12.0       10.0            7.0   \n",
      "15              20.0      5.0         4.0        4.0            5.0   \n",
      "16              38.0      8.0        10.0       11.0           14.0   \n",
      "17              48.0     14.0         8.0       14.0           13.0   \n",
      "18              10.0     87.0        85.0       88.0           85.0   \n",
      "19              16.0     85.0        91.0       72.0           86.0   \n",
      "20              80.0      5.0         8.0       13.0            9.0   \n",
      "21              39.0     12.0         5.0       13.0           13.0   \n",
      "22              11.0     90.0        86.0       91.0           87.0   \n",
      "23              12.0     13.0        15.0        6.0           11.0   \n",
      "24              90.0      3.0         3.0        2.0            4.0   \n",
      "25              32.0     13.0         5.0        7.0           11.0   \n",
      "26              41.0     14.0        14.0        9.0           11.0   \n",
      "27              87.0     13.0        14.0       16.0           12.0   \n",
      "28              44.0     15.0        15.0       15.0            5.0   \n",
      "29              22.0      8.0         4.0       14.0            9.0   \n",
      "...              ...      ...         ...        ...            ...   \n",
      "18177           11.0      6.0         9.0       11.0            7.0   \n",
      "18178           10.0     47.0        46.0       50.0           45.0   \n",
      "18179           49.0     14.0        11.0        7.0           11.0   \n",
      "18180           16.0     45.0        49.0       50.0           50.0   \n",
      "18181           45.0      8.0        10.0       12.0            9.0   \n",
      "18182           46.0      9.0        15.0       15.0            8.0   \n",
      "18183           13.0     45.0        48.0       44.0           49.0   \n",
      "18184           53.0     12.0         5.0       12.0           14.0   \n",
      "18185           48.0      6.0        11.0        9.0            5.0   \n",
      "18186           51.0     15.0         7.0       14.0            6.0   \n",
      "18187           42.0     13.0        12.0       11.0           15.0   \n",
      "18188           41.0      5.0        12.0        8.0           13.0   \n",
      "18189           22.0     15.0         5.0       14.0           12.0   \n",
      "18190           47.0     13.0         7.0       14.0           10.0   \n",
      "18191           46.0     15.0        13.0        6.0           14.0   \n",
      "18192           44.0     11.0        11.0        8.0           12.0   \n",
      "18193           48.0      6.0        10.0        6.0           12.0   \n",
      "18194           11.0     52.0        52.0       52.0           40.0   \n",
      "18195           48.0     13.0        14.0       12.0            7.0   \n",
      "18196           54.0     10.0        12.0        6.0           11.0   \n",
      "18197           38.0     13.0         6.0        9.0           10.0   \n",
      "18198           13.0     46.0        52.0       58.0           42.0   \n",
      "18199           49.0      7.0         7.0        9.0           14.0   \n",
      "18200           14.0     11.0        15.0       12.0           12.0   \n",
      "18201           53.0      9.0        10.0        9.0           11.0   \n",
      "18202           47.0     10.0        13.0        7.0            8.0   \n",
      "18203           19.0     10.0         9.0        9.0            5.0   \n",
      "18204           11.0      6.0         5.0       10.0            6.0   \n",
      "18205           27.0     14.0         6.0       14.0            8.0   \n",
      "18206           50.0     10.0        15.0        9.0           12.0   \n",
      "\n",
      "      GKReflexes Release Clause  \n",
      "0            8.0        €226.5M  \n",
      "1           11.0        €127.1M  \n",
      "2           11.0        €228.1M  \n",
      "3           94.0        €138.6M  \n",
      "4           13.0        €196.4M  \n",
      "5            8.0        €172.1M  \n",
      "6            9.0        €137.4M  \n",
      "7           37.0          €164M  \n",
      "8           11.0        €104.6M  \n",
      "9           89.0        €144.5M  \n",
      "10          10.0        €127.1M  \n",
      "11          10.0        €156.8M  \n",
      "12          15.0         €90.2M  \n",
      "13          12.0          €111M  \n",
      "14          10.0        €121.3M  \n",
      "15           8.0        €153.5M  \n",
      "16          11.0        €160.7M  \n",
      "17          14.0        €165.8M  \n",
      "18          90.0        €123.3M  \n",
      "19          88.0        €113.7M  \n",
      "20          13.0        €105.6M  \n",
      "21          10.0          €111M  \n",
      "22          87.0         €62.7M  \n",
      "23          14.0        €119.3M  \n",
      "24           3.0         €44.6M  \n",
      "25           6.0        €166.1M  \n",
      "26          14.0        €137.3M  \n",
      "27          12.0        €126.4M  \n",
      "28          14.0            NaN  \n",
      "29          10.0        €105.4M  \n",
      "...          ...            ...  \n",
      "18177       12.0          €193K  \n",
      "18178       51.0           €94K  \n",
      "18179        8.0          €119K  \n",
      "18180       45.0           €78K  \n",
      "18181       10.0          €109K  \n",
      "18182        6.0          €101K  \n",
      "18183       46.0            NaN  \n",
      "18184       15.0           €78K  \n",
      "18185        8.0           €88K  \n",
      "18186        8.0          €167K  \n",
      "18187       12.0           €66K  \n",
      "18188       10.0          €143K  \n",
      "18189        8.0          €125K  \n",
      "18190        8.0          €165K  \n",
      "18191       12.0          €119K  \n",
      "18192       13.0          €119K  \n",
      "18193       11.0           €99K  \n",
      "18194       44.0          €109K  \n",
      "18195       13.0          €153K  \n",
      "18196        8.0          €113K  \n",
      "18197       15.0           €88K  \n",
      "18198       48.0          €165K  \n",
      "18199       15.0          €175K  \n",
      "18200       11.0          €143K  \n",
      "18201       13.0          €153K  \n",
      "18202        9.0          €143K  \n",
      "18203       12.0          €113K  \n",
      "18204       13.0          €165K  \n",
      "18205        9.0          €143K  \n",
      "18206        9.0          €165K  \n",
      "\n"
     ]
    },
    {
     "name": "stdout",
     "output_type": "stream",
     "text": [
      "[18207 rows x 89 columns]\n"
     ]
    }
   ],
   "source": [
    "url = \"https://raw.githubusercontent.com/amanthedorkknight/fifa18-all-player-statistics/master/2019/data.csv\"\n",
    "dataframe = pd.read_csv(url)\n",
    "print(dataframe)"
   ]
  },
  {
   "cell_type": "markdown",
   "metadata": {},
   "source": [
    "### Consultar las columnas de un csv en pandas."
   ]
  },
  {
   "cell_type": "code",
   "execution_count": 7,
   "metadata": {
    "scrolled": true
   },
   "outputs": [
    {
     "data": {
      "text/plain": [
       "Index(['Unnamed: 0', 'ID', 'Name', 'Age', 'Photo', 'Nationality', 'Flag',\n",
       "       'Overall', 'Potential', 'Club', 'Club Logo', 'Value', 'Wage', 'Special',\n",
       "       'Preferred Foot', 'International Reputation', 'Weak Foot',\n",
       "       'Skill Moves', 'Work Rate', 'Body Type', 'Real Face', 'Position',\n",
       "       'Jersey Number', 'Joined', 'Loaned From', 'Contract Valid Until',\n",
       "       'Height', 'Weight', 'LS', 'ST', 'RS', 'LW', 'LF', 'CF', 'RF', 'RW',\n",
       "       'LAM', 'CAM', 'RAM', 'LM', 'LCM', 'CM', 'RCM', 'RM', 'LWB', 'LDM',\n",
       "       'CDM', 'RDM', 'RWB', 'LB', 'LCB', 'CB', 'RCB', 'RB', 'Crossing',\n",
       "       'Finishing', 'HeadingAccuracy', 'ShortPassing', 'Volleys', 'Dribbling',\n",
       "       'Curve', 'FKAccuracy', 'LongPassing', 'BallControl', 'Acceleration',\n",
       "       'SprintSpeed', 'Agility', 'Reactions', 'Balance', 'ShotPower',\n",
       "       'Jumping', 'Stamina', 'Strength', 'LongShots', 'Aggression',\n",
       "       'Interceptions', 'Positioning', 'Vision', 'Penalties', 'Composure',\n",
       "       'Marking', 'StandingTackle', 'SlidingTackle', 'GKDiving', 'GKHandling',\n",
       "       'GKKicking', 'GKPositioning', 'GKReflexes', 'Release Clause'],\n",
       "      dtype='object')"
      ]
     },
     "execution_count": 7,
     "metadata": {},
     "output_type": "execute_result"
    }
   ],
   "source": [
    "dataframe.columns"
   ]
  },
  {
   "cell_type": "markdown",
   "metadata": {},
   "source": [
    "### Crear un subset de datos en Pandas.\n",
    ".dropna() nos ayuda a eliminar datos que no deseemos.\n",
    "\n",
    "El parametro axis recibe dos valores 0 y 1.\n",
    "0 si queremos borrar la fila donde encontremos valores faltantes.\n",
    "1 si quiere borrar la columna.\n",
    "\n",
    "how recibe cómo parametros 'any' y 'all'\n",
    "'any' significa que si existe al menos un valor NA en alguna columna, haga lo que indica el parametro axis.\n",
    "'all' significa que si todos los valores son NA, se borra la fila\n"
   ]
  },
  {
   "cell_type": "code",
   "execution_count": 30,
   "metadata": {},
   "outputs": [
    {
     "data": {
      "text/plain": [
       "(torch.Size([18159, 5]), 'torch.FloatTensor')"
      ]
     },
     "execution_count": 30,
     "metadata": {},
     "output_type": "execute_result"
    }
   ],
   "source": [
    "subset = dataframe[['Overall','Age','International Reputation', 'Weak Foot',\n",
    "       'Skill Moves']].dropna(axis = 0,how= 'any')\n",
    "\n",
    "columns = subset.columns[1:]\n",
    "# Convertimos los datos del subset en un tensor\n",
    "players = torch.tensor(subset.values).float()\n",
    "players.shape, players.type()"
   ]
  },
  {
   "cell_type": "markdown",
   "metadata": {},
   "source": [
    "### Notación de tensores.\n",
    "Aquí tomamos todas las filas (':') y empezamos desde la columna 1 ('1:')."
   ]
  },
  {
   "cell_type": "code",
   "execution_count": 21,
   "metadata": {},
   "outputs": [
    {
     "data": {
      "text/plain": [
       "(tensor([[31.,  5.,  4.,  4.],\n",
       "         [33.,  5.,  4.,  5.],\n",
       "         [26.,  5.,  5.,  5.],\n",
       "         ...,\n",
       "         [16.,  1.,  3.,  2.],\n",
       "         [17.,  1.,  3.,  2.],\n",
       "         [16.,  1.,  3.,  2.]]), torch.Size([18159, 4]))"
      ]
     },
     "execution_count": 21,
     "metadata": {},
     "output_type": "execute_result"
    }
   ],
   "source": [
    "data = players[:, 1:]\n",
    "data, data.shape"
   ]
  },
  {
   "cell_type": "markdown",
   "metadata": {},
   "source": [
    "Hallamos una media del Overall de los jugadores."
   ]
  },
  {
   "cell_type": "code",
   "execution_count": 26,
   "metadata": {},
   "outputs": [
    {
     "data": {
      "text/plain": [
       "(tensor([94., 94., 92.,  ..., 47., 47., 46.]), torch.Size([18159]))"
      ]
     },
     "execution_count": 26,
     "metadata": {},
     "output_type": "execute_result"
    }
   ],
   "source": [
    "target = players[:, 0]\n",
    "target, target.shape"
   ]
  },
  {
   "cell_type": "code",
   "execution_count": 22,
   "metadata": {},
   "outputs": [
    {
     "data": {
      "text/plain": [
       "tensor([25.1225,  1.1132,  2.9473,  2.3613])"
      ]
     },
     "execution_count": 22,
     "metadata": {},
     "output_type": "execute_result"
    }
   ],
   "source": [
    "mean = torch.mean(data, dim=0)\n",
    "mean"
   ]
  },
  {
   "cell_type": "markdown",
   "metadata": {},
   "source": [
    "#### Desviación estandar."
   ]
  },
  {
   "cell_type": "code",
   "execution_count": 23,
   "metadata": {},
   "outputs": [
    {
     "data": {
      "text/plain": [
       "tensor([4.6706, 0.3940, 0.6605, 0.7562])"
      ]
     },
     "execution_count": 23,
     "metadata": {},
     "output_type": "execute_result"
    }
   ],
   "source": [
    "std = torch.std(data, dim=0)\n",
    "std"
   ]
  },
  {
   "cell_type": "markdown",
   "metadata": {},
   "source": [
    "#### Normalización."
   ]
  },
  {
   "cell_type": "code",
   "execution_count": 24,
   "metadata": {},
   "outputs": [
    {
     "data": {
      "text/plain": [
       "tensor([[ 1.2584,  9.8641,  1.5939,  2.1671],\n",
       "        [ 1.6866,  9.8641,  1.5939,  3.4896],\n",
       "        [ 0.1879,  9.8641,  3.1080,  3.4896],\n",
       "        ...,\n",
       "        [-1.9532, -0.2873,  0.0798, -0.4778],\n",
       "        [-1.7391, -0.2873,  0.0798, -0.4778],\n",
       "        [-1.9532, -0.2873,  0.0798, -0.4778]])"
      ]
     },
     "execution_count": 24,
     "metadata": {},
     "output_type": "execute_result"
    }
   ],
   "source": [
    "norm = (data - mean)/std\n",
    "norm"
   ]
  },
  {
   "cell_type": "markdown",
   "metadata": {},
   "source": [
    "### Clasificación.\n",
    "- .ge(tensor, number) -> greater equal >= el método toma los valores que sean mayores o igual a number.\n",
    "- .gt(tensor, number) -> greater than > el método toma los valores que sean estrictamente mayores.\n",
    "- .lt(tensor, number) -> less than < menores estrictamente.\n",
    "- .le(tensor, number) -> less equal\n"
   ]
  },
  {
   "cell_type": "code",
   "execution_count": 32,
   "metadata": {},
   "outputs": [
    {
     "name": "stdout",
     "output_type": "stream",
     "text": [
      "Age                        28.35  27.23  24.37\n",
      "International Reputation    3.38   1.36   1.01\n",
      "Weak Foot                   3.45   3.11   2.89\n",
      "Skill Moves                 3.04   2.75   2.22\n"
     ]
    }
   ],
   "source": [
    "good = data[torch.ge(target,85)]\n",
    "average = data[torch.gt(target, 70) & torch.lt(target, 85)]\n",
    "notSoGood = data[torch.le(target,70)]\n",
    "\n",
    "goodMean = torch.mean(good, dim = 0)\n",
    "averageMean = torch.mean(average, dim = 0)\n",
    "notSoGoodMean = torch.mean(notSoGood, dim = 0)\n",
    "\n",
    "for i, args in enumerate(zip(columns, goodMean, averageMean, notSoGoodMean)):\n",
    "  print('{:25} {:6.2f} {:6.2f} {:6.2f}'.format (*args))"
   ]
  },
  {
   "cell_type": "code",
   "execution_count": null,
   "metadata": {},
   "outputs": [],
   "source": []
  }
 ],
 "metadata": {
  "kernelspec": {
   "display_name": "Python 3",
   "language": "python",
   "name": "python3"
  },
  "language_info": {
   "codemirror_mode": {
    "name": "ipython",
    "version": 3
   },
   "file_extension": ".py",
   "mimetype": "text/x-python",
   "name": "python",
   "nbconvert_exporter": "python",
   "pygments_lexer": "ipython3",
   "version": "3.7.3"
  }
 },
 "nbformat": 4,
 "nbformat_minor": 2
}
