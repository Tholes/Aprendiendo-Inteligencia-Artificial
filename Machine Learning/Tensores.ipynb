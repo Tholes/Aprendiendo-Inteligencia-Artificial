{
 "cells": [
  {
   "cell_type": "markdown",
   "metadata": {},
   "source": [
    "# ¿Que son los tensores?"
   ]
  },
  {
   "cell_type": "markdown",
   "metadata": {},
   "source": [
    "Son una generalización de los vectores.\n",
    "- Un tensor de una dimención es un escalar.\n",
    "- Un tensor de dos dimenciones es un vector.\n",
    "- Un tensor de dos dimenciones es una matriz."
   ]
  },
  {
   "cell_type": "code",
   "execution_count": 64,
   "metadata": {},
   "outputs": [],
   "source": [
    "import torch\n",
    "import numpy as np"
   ]
  },
  {
   "cell_type": "markdown",
   "metadata": {},
   "source": [
    "### Inicializar un tensor"
   ]
  },
  {
   "cell_type": "code",
   "execution_count": 40,
   "metadata": {},
   "outputs": [
    {
     "data": {
      "text/plain": [
       "tensor([[1, 2, 3],\n",
       "        [4, 5, 6]])"
      ]
     },
     "execution_count": 40,
     "metadata": {},
     "output_type": "execute_result"
    }
   ],
   "source": [
    "tensor_e = torch.tensor([[1,2,3],[4,5,6]])\n",
    "tensor_e"
   ]
  },
  {
   "cell_type": "markdown",
   "metadata": {},
   "source": [
    "### Inicializar un tensor con valores por defecto 0:"
   ]
  },
  {
   "cell_type": "code",
   "execution_count": 25,
   "metadata": {},
   "outputs": [
    {
     "data": {
      "text/plain": [
       "tensor([[0., 0.],\n",
       "        [0., 0.]])"
      ]
     },
     "execution_count": 25,
     "metadata": {},
     "output_type": "execute_result"
    }
   ],
   "source": [
    "tensor_z = torch.zeros(2,2)\n",
    "tensor_z"
   ]
  },
  {
   "cell_type": "markdown",
   "metadata": {},
   "source": [
    "### Inicializar un tensor con valores por defecto de '1':\n",
    "Recibe por parametro la dimensión.\n",
    "\n",
    "torch.ones(filas, columnas)"
   ]
  },
  {
   "cell_type": "code",
   "execution_count": 11,
   "metadata": {},
   "outputs": [
    {
     "data": {
      "text/plain": [
       "tensor([[1., 1.],\n",
       "        [1., 1.]])"
      ]
     },
     "execution_count": 11,
     "metadata": {},
     "output_type": "execute_result"
    }
   ],
   "source": [
    "tensor_a = torch.ones(2,2)\n",
    "tensor_a"
   ]
  },
  {
   "cell_type": "markdown",
   "metadata": {},
   "source": [
    "### Inicializar un tensor con valores aleatorios:\n",
    "El método debe tener la T mayúscula, ya que el método .tensor() espera cómo parametro los valores del tensor."
   ]
  },
  {
   "cell_type": "code",
   "execution_count": 12,
   "metadata": {
    "scrolled": true
   },
   "outputs": [
    {
     "data": {
      "text/plain": [
       "tensor([[0.0000e+00, 0.0000e+00],\n",
       "        [8.4207e-09, 4.5916e-41]])"
      ]
     },
     "execution_count": 12,
     "metadata": {},
     "output_type": "execute_result"
    }
   ],
   "source": [
    "tensor_b = torch.Tensor(2,2)\n",
    "tensor_b"
   ]
  },
  {
   "cell_type": "markdown",
   "metadata": {},
   "source": [
    "### Método Uniform. \n",
    "El método uniform nos sirve para \"mapear\" los valores en un rango determinado.\n",
    "\n",
    "Recibe por parametro: tensor.uniform_(rango_inferior, rango_superior).\n",
    "\n",
    "Para usar este método debemos tener un tensor ya creado."
   ]
  },
  {
   "cell_type": "code",
   "execution_count": 17,
   "metadata": {},
   "outputs": [
    {
     "data": {
      "text/plain": [
       "tensor([[0.7230, 0.5308],\n",
       "        [0.2041, 0.3199]])"
      ]
     },
     "execution_count": 17,
     "metadata": {},
     "output_type": "execute_result"
    }
   ],
   "source": [
    "tensor_b.uniform_(0,1)\n",
    "tensor_b"
   ]
  },
  {
   "cell_type": "markdown",
   "metadata": {},
   "source": [
    "### Método Rand.\n",
    "Con este método podemos inicializar un tensor con números entre 0 y 1.\n",
    "\n",
    "Recibe por parámetro sus dimensiones."
   ]
  },
  {
   "cell_type": "code",
   "execution_count": 19,
   "metadata": {},
   "outputs": [
    {
     "data": {
      "text/plain": [
       "tensor([[0.2590, 0.5961],\n",
       "        [0.0296, 0.1042]])"
      ]
     },
     "execution_count": 19,
     "metadata": {},
     "output_type": "execute_result"
    }
   ],
   "source": [
    "tensor_c = torch.rand(2,2)\n",
    "tensor_c"
   ]
  },
  {
   "cell_type": "markdown",
   "metadata": {},
   "source": [
    "## Operaciones entre tensores.\n",
    "#### Operaciones básicas:"
   ]
  },
  {
   "cell_type": "code",
   "execution_count": 30,
   "metadata": {},
   "outputs": [
    {
     "name": "stdout",
     "output_type": "stream",
     "text": [
      "tensor([[0.9819, 1.1269],\n",
      "        [0.2337, 0.4241]]) suma\n",
      "tensor([[ 0.4640, -0.0653],\n",
      "        [ 0.1745,  0.2158]]) resta\n",
      "tensor([[0.1872, 0.3164],\n",
      "        [0.0060, 0.0333]]) multiplicación\n",
      "tensor([[2.7918, 0.8904],\n",
      "        [6.8914, 3.0719]]) división\n"
     ]
    }
   ],
   "source": [
    "resultSum = tensor_b + tensor_c\n",
    "print(resultSum, \"suma\")\n",
    "resultSum = tensor_b - tensor_c\n",
    "print(resultSum, \"resta\")\n",
    "resultSum = tensor_b * tensor_c\n",
    "print(resultSum,\"multiplicación\")\n",
    "resultSum = tensor_b / tensor_c\n",
    "print(resultSum,\"división\")"
   ]
  },
  {
   "cell_type": "markdown",
   "metadata": {},
   "source": [
    "#### Elevar a un exponente:"
   ]
  },
  {
   "cell_type": "code",
   "execution_count": 23,
   "metadata": {},
   "outputs": [
    {
     "data": {
      "text/plain": [
       "tensor([[ 1,  4,  9],\n",
       "        [16, 25, 36]])"
      ]
     },
     "execution_count": 23,
     "metadata": {},
     "output_type": "execute_result"
    }
   ],
   "source": [
    "tensor_e.pow(2)"
   ]
  },
  {
   "cell_type": "markdown",
   "metadata": {},
   "source": [
    "#### Sumar todos los componentes de un tensor:"
   ]
  },
  {
   "cell_type": "code",
   "execution_count": 24,
   "metadata": {},
   "outputs": [
    {
     "data": {
      "text/plain": [
       "tensor(91)"
      ]
     },
     "execution_count": 24,
     "metadata": {},
     "output_type": "execute_result"
    }
   ],
   "source": [
    "tensor_e.pow(2).sum()"
   ]
  },
  {
   "cell_type": "markdown",
   "metadata": {},
   "source": [
    "#### Modulo\n",
    "Se le aplica la operación a cada elemento del tensor."
   ]
  },
  {
   "cell_type": "code",
   "execution_count": 31,
   "metadata": {},
   "outputs": [
    {
     "data": {
      "text/plain": [
       "tensor([[1, 0, 1],\n",
       "        [0, 1, 0]])"
      ]
     },
     "execution_count": 31,
     "metadata": {},
     "output_type": "execute_result"
    }
   ],
   "source": [
    "tensor_e.fmod_(2)"
   ]
  },
  {
   "cell_type": "markdown",
   "metadata": {},
   "source": [
    "### Transpuesta:"
   ]
  },
  {
   "cell_type": "code",
   "execution_count": 49,
   "metadata": {},
   "outputs": [
    {
     "name": "stdout",
     "output_type": "stream",
     "text": [
      "tensor([[1, 2, 3],\n",
      "        [4, 5, 6]])\n",
      "tensor([[1, 4],\n",
      "        [2, 5],\n",
      "        [3, 6]])\n"
     ]
    }
   ],
   "source": [
    "print(tensor_e)\n",
    "print(tensor_e.t())"
   ]
  },
  {
   "cell_type": "markdown",
   "metadata": {},
   "source": [
    "### Tomar los valores que cumplen cierta condición.\n",
    "El método .where() nos sirve para formar un tensor donde sus elementos cumplan alguna condición.\n",
    "\n",
    "Sintaxis: torch.where(condición, x,y) tensor x, será donde se evaluará la condición de lo contrario se tomará el valor que haya en la misma posición en y."
   ]
  },
  {
   "cell_type": "code",
   "execution_count": 63,
   "metadata": {},
   "outputs": [
    {
     "name": "stdout",
     "output_type": "stream",
     "text": [
      "tensor([[-1.4983,  1.1829],\n",
      "        [ 1.3582, -0.9268],\n",
      "        [-0.4399, -1.9582]])\n",
      "tensor([[1.0000, 1.1829],\n",
      "        [1.3582, 1.0000],\n",
      "        [1.0000, 1.0000]])\n"
     ]
    }
   ],
   "source": [
    "x = torch.randn(3, 2)\n",
    "y = torch.ones(3, 2)\n",
    "print(x)\n",
    "print(torch.where(x > 0, x ,y))"
   ]
  },
  {
   "cell_type": "markdown",
   "metadata": {},
   "source": [
    "## Tamaño o forma del tensor"
   ]
  },
  {
   "cell_type": "code",
   "execution_count": 32,
   "metadata": {},
   "outputs": [
    {
     "data": {
      "text/plain": [
       "torch.Size([2, 3])"
      ]
     },
     "execution_count": 32,
     "metadata": {},
     "output_type": "execute_result"
    }
   ],
   "source": [
    "tensor_e.shape"
   ]
  },
  {
   "cell_type": "markdown",
   "metadata": {},
   "source": [
    "### Cambiar el tamaño de un tensor:"
   ]
  },
  {
   "cell_type": "code",
   "execution_count": 38,
   "metadata": {},
   "outputs": [
    {
     "name": "stdout",
     "output_type": "stream",
     "text": [
      "tensor([[1, 0, 1],\n",
      "        [0, 1, 0]]) original\n",
      "tensor([[1, 0, 1, 0, 1, 0]])\n",
      "tensor([[1, 0],\n",
      "        [1, 0],\n",
      "        [1, 0]])\n",
      "tensor([[1],\n",
      "        [0],\n",
      "        [1],\n",
      "        [0],\n",
      "        [1],\n",
      "        [0]])\n"
     ]
    }
   ],
   "source": [
    "print(tensor_e, \"original\")\n",
    "print(tensor_e.view(1,6))\n",
    "print(tensor_e.view(3,2))\n",
    "print(tensor_e.view(6,1))"
   ]
  },
  {
   "cell_type": "markdown",
   "metadata": {},
   "source": [
    "### Acceder a una posición del tensor.\n",
    "Se hace de la misma manera que se haría en una matriz."
   ]
  },
  {
   "cell_type": "code",
   "execution_count": 42,
   "metadata": {},
   "outputs": [
    {
     "name": "stdout",
     "output_type": "stream",
     "text": [
      "tensor([[1, 2, 3],\n",
      "        [4, 5, 6]])\n"
     ]
    },
    {
     "data": {
      "text/plain": [
       "tensor(4)"
      ]
     },
     "execution_count": 42,
     "metadata": {},
     "output_type": "execute_result"
    }
   ],
   "source": [
    "print(tensor_e)\n",
    "tensor_e[1][0]"
   ]
  },
  {
   "cell_type": "markdown",
   "metadata": {},
   "source": [
    "## Almacenamiento en memoria.\n"
   ]
  },
  {
   "cell_type": "code",
   "execution_count": 43,
   "metadata": {},
   "outputs": [
    {
     "data": {
      "text/plain": [
       " 1\n",
       " 2\n",
       " 3\n",
       " 4\n",
       " 5\n",
       " 6\n",
       "[torch.LongStorage of size 6]"
      ]
     },
     "execution_count": 43,
     "metadata": {},
     "output_type": "execute_result"
    }
   ],
   "source": [
    "tensor_e.storage()"
   ]
  },
  {
   "cell_type": "markdown",
   "metadata": {},
   "source": [
    "### Método stride.\n",
    "#### Explicación tomada de un comentario de Platzi.\n",
    "La idea detrás del stride es que se pueda acceder al elemento de manera física en memoria, más que del simple hecho de accederlo lógicamente ( por ejemplo points[1][0] ). Y es ahí donde stride me dice como hacerlo!. Esto es, que si por ejemplo quieres saber dónde está el numero 3 en el ejemplo que te pongo, tienes que multiplicar cada indice de donde se encuentra en el tensor con su respectivo stride de la dimensión y sumarlos todos juntos. En la imagen, la primera dimensión del tensor esta en azul y la segunda en rojo. Así pues, para obtener el el numero 3 de manera física se hace el cálculo stride:\n",
    "\n",
    "1(fila del numero 3) X 2(dimensión stride de la fila) + 0(columna del numero 3)X1 (dimensión stride de la columna) = 2\n",
    "\n",
    "El 2 significa que debes hacer dos saltos en memoria para obtener el numero 3"
   ]
  },
  {
   "cell_type": "code",
   "execution_count": 44,
   "metadata": {},
   "outputs": [
    {
     "name": "stdout",
     "output_type": "stream",
     "text": [
      "tensor([[1, 2, 3],\n",
      "        [4, 5, 6]]) (3, 1)\n"
     ]
    }
   ],
   "source": [
    "print(tensor_e, tensor_e.stride())"
   ]
  },
  {
   "cell_type": "markdown",
   "metadata": {},
   "source": [
    "### Cómo añadir una dimensión:\n",
    "Este método recibe cómo parametro el tensor al cual se le añadirá la dimensión y la dimensión que se le quiere dar. "
   ]
  },
  {
   "cell_type": "code",
   "execution_count": 62,
   "metadata": {},
   "outputs": [
    {
     "name": "stdout",
     "output_type": "stream",
     "text": [
      "tensor([[1, 2, 3, 4]])\n",
      "tensor([[1],\n",
      "        [2],\n",
      "        [3],\n",
      "        [4]])\n"
     ]
    }
   ],
   "source": [
    "x = torch.tensor([1, 2, 3, 4])\n",
    "print(torch.unsqueeze(x, 0))\n",
    "print(torch.unsqueeze(x, 1))"
   ]
  },
  {
   "cell_type": "markdown",
   "metadata": {},
   "source": [
    "### Transformar un Array de Numpy a un tensor\n"
   ]
  },
  {
   "cell_type": "code",
   "execution_count": 68,
   "metadata": {},
   "outputs": [
    {
     "name": "stdout",
     "output_type": "stream",
     "text": [
      "[[-0.22663159 -2.29525184]\n",
      " [-1.40943663  0.68213589]]\n",
      "tensor([[-0.2266, -2.2953],\n",
      "        [-1.4094,  0.6821]], dtype=torch.float64)\n"
     ]
    }
   ],
   "source": [
    "numpyArray = np.random.randn(2,2)\n",
    "print(numpyArray)\n",
    "print(torch.from_numpy(numpyArray))"
   ]
  }
 ],
 "metadata": {
  "kernelspec": {
   "display_name": "Python 3",
   "language": "python",
   "name": "python3"
  },
  "language_info": {
   "codemirror_mode": {
    "name": "ipython",
    "version": 3
   },
   "file_extension": ".py",
   "mimetype": "text/x-python",
   "name": "python",
   "nbconvert_exporter": "python",
   "pygments_lexer": "ipython3",
   "version": "3.7.3"
  }
 },
 "nbformat": 4,
 "nbformat_minor": 2
}
