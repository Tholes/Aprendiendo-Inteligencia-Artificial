{
 "cells": [
  {
   "cell_type": "markdown",
   "metadata": {},
   "source": [
    "# Algoritmo de regresión lineal.\n",
    "\n",
    "## ¿Que es la regresión lineal y para que sirve?\n",
    "El análisis de regresión lineal es una técnica estadística utilizada para estudiar la relación entre variables. Se adapta a una amplia variedad de situaciones. En la investigación social, el análisis de regresión se utiliza para predecir un amplio rango de fenómenos, desde medidas económicas hasta diferentes aspectos del comportamiento humano. En el contexto de la investigación de mercados puede utilizarse para determinar en cuál de diferentes medios de comunicación puede reusltar más eficaz invertir; o para predecir el número de ventas de un determinado producto."
   ]
  },
  {
   "cell_type": "code",
   "execution_count": 17,
   "metadata": {},
   "outputs": [],
   "source": [
    "import torch\n",
    "import numpy as np\n",
    "import torch.nn as nn\n",
    "import torch.optim as optim\n",
    "import matplotlib.pyplot as plt"
   ]
  },
  {
   "cell_type": "code",
   "execution_count": 7,
   "metadata": {},
   "outputs": [],
   "source": [
    "car_prices = [5,6,7,8,9,10]\n",
    "units_sold = [8.5, 8.0, 7.5, 7, 6.5, 6.0]"
   ]
  },
  {
   "cell_type": "markdown",
   "metadata": {},
   "source": [
    "### graficar en matplotlib:\n",
    "plt.scatter(eje x, eje y)"
   ]
  },
  {
   "cell_type": "code",
   "execution_count": 8,
   "metadata": {},
   "outputs": [
    {
     "data": {
      "text/plain": [
       "<matplotlib.collections.PathCollection at 0x1f1dfc645f8>"
      ]
     },
     "execution_count": 8,
     "metadata": {},
     "output_type": "execute_result"
    },
    {
     "data": {
      "image/png": "[encoded data removed]",
      "text/plain": [
       "<Figure size 432x288 with 1 Axes>"
      ]
     },
     "metadata": {
      "needs_background": "light"
     },
     "output_type": "display_data"
    }
   ],
   "source": [
    "plt.scatter(car_prices, units_sold)"
   ]
  },
  {
   "cell_type": "markdown",
   "metadata": {},
   "source": [
    "Para convertir un array de numpy a tensor, se debe reestructurar para que pueda ser transformado en tensor."
   ]
  },
  {
   "cell_type": "code",
   "execution_count": 10,
   "metadata": {},
   "outputs": [
    {
     "data": {
      "text/plain": [
       "array([[ 5],\n",
       "       [ 6],\n",
       "       [ 7],\n",
       "       [ 8],\n",
       "       [ 9],\n",
       "       [10]])"
      ]
     },
     "execution_count": 10,
     "metadata": {},
     "output_type": "execute_result"
    }
   ],
   "source": [
    "prices_array = np.array(car_prices).reshape(-1,1)\n",
    "units_array = np.array(units_sold).reshape(-1,1)\n",
    "prices_array"
   ]
  },
  {
   "cell_type": "markdown",
   "metadata": {},
   "source": [
    "### Cambiar numpy array a tensor."
   ]
  },
  {
   "cell_type": "code",
   "execution_count": 13,
   "metadata": {},
   "outputs": [
    {
     "data": {
      "text/plain": [
       "(tensor([[ 5.],\n",
       "         [ 6.],\n",
       "         [ 7.],\n",
       "         [ 8.],\n",
       "         [ 9.],\n",
       "         [10.]], requires_grad=True), torch.Size([6, 1]))"
      ]
     },
     "execution_count": 13,
     "metadata": {},
     "output_type": "execute_result"
    }
   ],
   "source": [
    "prices = torch.from_numpy(prices_array).float().requires_grad_(True)\n",
    "units = torch.from_numpy(units_array).float()\n",
    "\n",
    "prices, prices.shape"
   ]
  },
  {
   "cell_type": "markdown",
   "metadata": {},
   "source": [
    "### Función Linear.\n",
    "Esta función aplica una transformación lineal a todos los datos que se ingresan.\n",
    "\n",
    "Parametros: Linear(in_features, out_features, bias)\n",
    "\n",
    "- in_features: Tamaño del dato de entrada.\n",
    "- out_features: tamaño del dato de salida.\n",
    "- bias: No lo entendí :v\n",
    "\n",
    "[Documentación oficial función Lineal](https://pytorch.org/docs/stable/nn.html?highlight=linear#torch.nn.Linear)\n",
    "\n",
    "### Función MSELoss (mean squared error).\n",
    "Esta función halla el error promedio al cuadrado, entre los valores de entrada y valores de salida.\n",
    "\n",
    "[MSELoss documentación](https://pytorch.org/docs/stable/nn.html?highlight=mseloss#torch.nn.MSELoss)\n",
    "\n",
    "### Función SGD (Stochastic Gradient Descent).\n",
    "\n",
    "Nos ayuda a calcular el gradiente, en este utilizaremos un lote de los datos.\n",
    "model.parameters() son los pesos los cuales iremos modificando en el modelo.\n",
    "lr = learning rate = son los pasos que hago para minimizar mi pérdida\n",
    "\n",
    "[SGD Documentación](https://pytorch.org/docs/stable/optim.html?highlight=optim%20sgd#torch.optim.SGD)"
   ]
  },
  {
   "cell_type": "code",
   "execution_count": 25,
   "metadata": {},
   "outputs": [
    {
     "name": "stdout",
     "output_type": "stream",
     "text": [
      "0.01863473653793335\n"
     ]
    },
    {
     "data": {
      "text/plain": [
       "[<matplotlib.lines.Line2D at 0x1f1dfcc4550>]"
      ]
     },
     "execution_count": 25,
     "metadata": {},
     "output_type": "execute_result"
    },
    {
     "data": {
      "image/png": "[encoded data removed]",
      "text/plain": [
       "<Figure size 432x288 with 1 Axes>"
      ]
     },
     "metadata": {
      "needs_background": "light"
     },
     "output_type": "display_data"
    }
   ],
   "source": [
    "model = nn.Linear(1,1)\n",
    "loss_function = nn.MSELoss()\n",
    "\n",
    "optimizer = optim.SGD(model.parameters(), lr = 0.015)\n",
    "\n",
    "losses = []\n",
    "iterations = 2000\n",
    "\n",
    "for i in range(iterations):\n",
    "    pred = model(prices)\n",
    "    loss = loss_function(pred, units)\n",
    "    losses.append(loss.data)\n",
    "    optimizer.zero_grad()\n",
    "    loss.backward()\n",
    "    optimizer.step()\n",
    "\n",
    "print(float(loss))\n",
    "plt.plot(range(iterations), losses)\n",
    "    "
   ]
  },
  {
   "cell_type": "markdown",
   "metadata": {},
   "source": [
    "#### Predicciones."
   ]
  },
  {
   "cell_type": "code",
   "execution_count": 27,
   "metadata": {},
   "outputs": [
    {
     "data": {
      "text/plain": [
       "tensor([4.4765], grad_fn=<AddBackward0>)"
      ]
     },
     "execution_count": 27,
     "metadata": {},
     "output_type": "execute_result"
    }
   ],
   "source": [
    "x = torch.Tensor([14.0])\n",
    "p = model(x)\n",
    "p\n"
   ]
  }
 ],
 "metadata": {
  "kernelspec": {
   "display_name": "Python 3",
   "language": "python",
   "name": "python3"
  },
  "language_info": {
   "codemirror_mode": {
    "name": "ipython",
    "version": 3
   },
   "file_extension": ".py",
   "mimetype": "text/x-python",
   "name": "python",
   "nbconvert_exporter": "python",
   "pygments_lexer": "ipython3",
   "version": "3.7.3"
  }
 },
 "nbformat": 4,
 "nbformat_minor": 2
}
